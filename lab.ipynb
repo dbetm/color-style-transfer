{
 "cells": [
  {
   "cell_type": "code",
   "execution_count": 1,
   "id": "dcc69ff0",
   "metadata": {},
   "outputs": [],
   "source": [
    "# to avoid to restart kernel when external modules are modified\n",
    "%load_ext autoreload\n",
    "%autoreload 2"
   ]
  },
  {
   "cell_type": "code",
   "execution_count": 2,
   "id": "e6a5e8a3",
   "metadata": {},
   "outputs": [],
   "source": [
    "import os\n",
    "from dotenv import load_dotenv\n",
    "\n",
    "\n",
    "load_dotenv()\n",
    "\n",
    "GOOGLE_API_KEY = os.getenv(\"GOOGLE_API_KEY\")"
   ]
  },
  {
   "cell_type": "code",
   "execution_count": 3,
   "id": "97eafcbf",
   "metadata": {},
   "outputs": [],
   "source": [
    "from google import genai\n",
    "from google.genai import types\n",
    "\n",
    "client = genai.Client(api_key=GOOGLE_API_KEY)"
   ]
  },
  {
   "cell_type": "code",
   "execution_count": 4,
   "id": "37c95c1b",
   "metadata": {},
   "outputs": [],
   "source": [
    "MODEL_ID = \"gemini-2.5-flash-image-preview\"\n",
    "\n",
    "from IPython.display import display, Markdown, Image\n",
    "import pathlib\n",
    "\n",
    "# Loop over all parts and display them either as text or images\n",
    "def display_response(response):\n",
    "    for part in response.parts:\n",
    "        if part.text:\n",
    "            display(Markdown(part.text))\n",
    "        elif image:= part.as_image():\n",
    "            display(image)\n",
    "            # image.show() if not in a notebook\n",
    "\n",
    "# Save the image\n",
    "# If there are multiple ones, only the last one will be saved\n",
    "def save_image(response, path):\n",
    "    for part in response.parts:\n",
    "        if image:= part.as_image():\n",
    "            image.save(path)\n"
   ]
  },
  {
   "cell_type": "code",
   "execution_count": 5,
   "id": "586cfc3e",
   "metadata": {},
   "outputs": [],
   "source": [
    "from PIL import Image\n",
    "\n",
    "\n",
    "from src.img_utils import *"
   ]
  },
  {
   "cell_type": "code",
   "execution_count": null,
   "id": "52a6e43d",
   "metadata": {},
   "outputs": [],
   "source": [
    "from pathlib import Path\n",
    "\n",
    "base_path = Path(\"images\")\n",
    "img = Image.open(base_path / 'matrix.jpg')\n",
    "target = Image.open(base_path / 'matrix.jpg')\n",
    "\n",
    "print(img.height, img.width)\n",
    "\n",
    "#c = generate_color_palette(x, x.height, x.width)\n",
    "display(generate_color_palette(img, target))"
   ]
  },
  {
   "cell_type": "code",
   "execution_count": null,
   "id": "b7a2fe78",
   "metadata": {},
   "outputs": [],
   "source": [
    "img = Image.open(base_path / 'output.png')\n",
    "target = Image.open(base_path / 'matrix.jpg')\n",
    "\n",
    "print(img.height, img.width)\n",
    "\n",
    "#c = generate_color_palette(x, x.height, x.width)\n",
    "display(generate_color_palette(img, target))"
   ]
  },
  {
   "cell_type": "code",
   "execution_count": null,
   "id": "5560e35b",
   "metadata": {},
   "outputs": [],
   "source": [
    "text_prompt = (\n",
    "    \"Transfer the color style into the target image using the provided color palette image\"\n",
    "    \" Ensure the recoloring is consistent and harmonious across the entire image, preserving details\"\n",
    ")\n",
    "\n",
    "text_prompt = (\n",
    "    \"Recolor the target image using the provided color palette as reference.\" \n",
    "    \" Apply the palette consistently across the entire image.\" \n",
    "    \" Preserve details, textures, and natural shading while maintaining overall harmony and balance.\"\n",
    ")\n",
    "\n",
    "reference = Image.open(base_path / 'matrix.jpg')\n",
    "target = Image.open(base_path / 'target2.jpeg')\n",
    "palette_img = generate_color_palette(reference, target)\n",
    "\n",
    "print(\"color palette extracted...\")\n",
    "\n",
    "\n",
    "response = client.models.generate_content(\n",
    "    model=MODEL_ID,\n",
    "    contents=[\n",
    "        text_prompt,\n",
    "        # the orden matters (idk why...)\n",
    "        target,\n",
    "        palette_img,\n",
    "    ],\n",
    "    config=types.GenerateContentConfig(\n",
    "        response_modalities=['Text', 'Image'],\n",
    "        top_p=0.7,\n",
    "    ),\n",
    ")\n",
    "\n",
    "display_response(response)"
   ]
  }
 ],
 "metadata": {
  "kernelspec": {
   "display_name": ".venv",
   "language": "python",
   "name": "python3"
  },
  "language_info": {
   "codemirror_mode": {
    "name": "ipython",
    "version": 3
   },
   "file_extension": ".py",
   "mimetype": "text/x-python",
   "name": "python",
   "nbconvert_exporter": "python",
   "pygments_lexer": "ipython3",
   "version": "3.10.5"
  }
 },
 "nbformat": 4,
 "nbformat_minor": 5
}
